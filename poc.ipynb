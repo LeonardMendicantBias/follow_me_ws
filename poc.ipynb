{
 "cells": [
  {
   "cell_type": "code",
   "execution_count": null,
   "id": "0e1c2992",
   "metadata": {},
   "outputs": [],
   "source": [
    "%reload_ext autoreload\n",
    "%autoreload 2"
   ]
  },
  {
   "cell_type": "code",
   "execution_count": 1,
   "id": "c4eadf32",
   "metadata": {},
   "outputs": [],
   "source": [
    "from typing import ClassVar\n",
    "from dataclasses import dataclass\n",
    "\n",
    "import sqlite3\n",
    "import json\n",
    "\n",
    "import cv2\n",
    "import torch\n",
    "import torch.nn.functional as F\n",
    "from torch import nn\n",
    "import numpy as np\n",
    "\n",
    "from sensor_msgs.msg import PointCloud2\n",
    "from sensor_msgs.msg import Image as ROS_Image\n",
    "import sensor_msgs_py.point_cloud2 as pc2\n",
    "from rclpy.serialization import deserialize_message\n",
    "\n",
    "import matplotlib.pyplot as plt\n",
    "\n",
    "from PIL import Image\n",
    "from cv_bridge import CvBridge\n",
    "\n",
    "from ultralytics import YOLO\n",
    "\n",
    "from torchvision.models import resnet18 as resnet, ResNet18_Weights\n",
    "from torchvision import transforms\n",
    "\n",
    "from sklearn.linear_model import Ridge\n",
    "from queue import Queue\n",
    "\n",
    "from src.follow_me.follow_me.tracker import Tracker\n"
   ]
  },
  {
   "cell_type": "code",
   "execution_count": 2,
   "id": "7977905a",
   "metadata": {},
   "outputs": [
    {
     "name": "stdout",
     "output_type": "stream",
     "text": [
      "/rosout\n",
      "/events/write_split\n",
      "/diagnostics\n",
      "/parameter_events\n",
      "/velodyne_points\n",
      "/joint_states\n",
      "/scan\n",
      "/tf_static\n",
      "/velodyne_packets\n",
      "/camera/camera/color/camera_info\n",
      "/camera/camera/extrinsics/depth_to_color\n",
      "/camera/camera/depth/metadata\n",
      "/camera/camera/depth/camera_info\n",
      "/camera/camera/depth/image_rect_raw\n",
      "/camera/camera/color/metadata\n",
      "/camera/camera/color/image_raw\n",
      "/odom\n",
      "/robot_description\n",
      "/tf\n",
      "/tracer_status\n"
     ]
    }
   ],
   "source": [
    "ds = \"v1\"\n",
    "\n",
    "conn = sqlite3.connect(f\"./{ds}/{ds}_0.db3\")\n",
    "cursor = conn.cursor()\n",
    "\n",
    "cursor.execute(\"SELECT * FROM topics\")\n",
    "topic_info = cursor.fetchall()\n",
    "for topic in topic_info:\n",
    "    print(topic[1])"
   ]
  },
  {
   "cell_type": "code",
   "execution_count": 3,
   "id": "1c2f018c",
   "metadata": {},
   "outputs": [
    {
     "name": "stdout",
     "output_type": "stream",
     "text": [
      "Topic Info: (16, '/camera/camera/color/image_raw', 'sensor_msgs/msg/Image', 'cdr', '- history: 3\\n  depth: 0\\n  reliability: 1\\n  durability: 1\\n  deadline:\\n    sec: 9223372036\\n    nsec: 854775807\\n  lifespan:\\n    sec: 9223372036\\n    nsec: 854775807\\n  liveliness: 1\\n  liveliness_lease_duration:\\n    sec: 9223372036\\n    nsec: 854775807\\n  avoid_ros_namespace_conventions: false')\n"
     ]
    }
   ],
   "source": [
    "topic_name = \"/camera/camera/color/image_raw\"\n",
    "cursor.execute(f\"SELECT * FROM topics WHERE name='{topic_name}'\")\n",
    "topic_info = cursor.fetchone()\n",
    "\t\n",
    "if not topic_info:\n",
    "\tprint(\"Topic not found.\")\n",
    "\t\n",
    "print(\"Topic Info:\", topic_info)\n",
    "topic_id = topic_info[0]  # 'id' is the first column in topics\n",
    "\n",
    "# Step 2: Get all messages for that topic\n",
    "cursor.execute(\"SELECT * FROM messages WHERE topic_id = ?\", (topic_id,))\n",
    "messages = cursor.fetchall()"
   ]
  },
  {
   "cell_type": "code",
   "execution_count": 4,
   "id": "34b34b28",
   "metadata": {},
   "outputs": [
    {
     "name": "stdout",
     "output_type": "stream",
     "text": [
      "\n"
     ]
    }
   ],
   "source": [
    "model = YOLO(\"yolo11n-pose.pt\")\n",
    "model.eval()\n",
    "print()"
   ]
  },
  {
   "cell_type": "code",
   "execution_count": 6,
   "id": "05c0bb8e",
   "metadata": {},
   "outputs": [
    {
     "ename": "AttributeError",
     "evalue": "'NoneType' object has no attribute 'numpy'",
     "output_type": "error",
     "traceback": [
      "\u001b[0;31m---------------------------------------------------------------------------\u001b[0m",
      "\u001b[0;31mAttributeError\u001b[0m                            Traceback (most recent call last)",
      "Cell \u001b[0;32mIn[6], line 20\u001b[0m\n\u001b[1;32m     18\u001b[0m bboxes \u001b[38;5;241m=\u001b[39m result\u001b[38;5;241m.\u001b[39mboxes\u001b[38;5;241m.\u001b[39mxywh\u001b[38;5;241m.\u001b[39mnumpy()\n\u001b[1;32m     19\u001b[0m kpts \u001b[38;5;241m=\u001b[39m result\u001b[38;5;241m.\u001b[39mkeypoints\u001b[38;5;241m.\u001b[39mxy\u001b[38;5;241m.\u001b[39mnumpy()\n\u001b[0;32m---> 20\u001b[0m confs \u001b[38;5;241m=\u001b[39m \u001b[43mresult\u001b[49m\u001b[38;5;241;43m.\u001b[39;49m\u001b[43mkeypoints\u001b[49m\u001b[38;5;241;43m.\u001b[39;49m\u001b[43mconf\u001b[49m\u001b[38;5;241;43m.\u001b[39;49m\u001b[43mnumpy\u001b[49m()\n\u001b[1;32m     22\u001b[0m all_features, visible_part \u001b[38;5;241m=\u001b[39m tracker\u001b[38;5;241m.\u001b[39mprocess_crop(\n\u001b[1;32m     23\u001b[0m     cv_image, bboxes, kpts, confs\n\u001b[1;32m     24\u001b[0m )\n\u001b[1;32m     25\u001b[0m \u001b[38;5;66;03m# print(all_features.shape, visible_part.shape)\u001b[39;00m\n",
      "\u001b[0;31mAttributeError\u001b[0m: 'NoneType' object has no attribute 'numpy'"
     ]
    }
   ],
   "source": [
    "bridge = CvBridge()\n",
    "tracker = Tracker((256, 448))\n",
    "\n",
    "# for idx in range(1950, 1951):\n",
    "# for idx in range(1700, 1701):\n",
    "for idx in range(700, 701):\n",
    "    msg_id, topic_id, timestamp, data = messages[idx]\n",
    "    rgb_image = deserialize_message(data, ROS_Image)\n",
    "    cv_image = bridge.imgmsg_to_cv2(rgb_image, desired_encoding='bgr8')\n",
    "\n",
    "    results = model(\n",
    "        cv_image,\n",
    "        conf=0.4,\n",
    "        verbose=False,\n",
    "    )\n",
    "    result = results[0].cpu()\n",
    "    \n",
    "    bboxes = result.boxes.xywh.numpy()\n",
    "    kpts = result.keypoints.xy.numpy()\n",
    "    confs = result.keypoints.conf.numpy()\n",
    "    \n",
    "    all_features, visible_part = tracker.process_crop(\n",
    "        cv_image, bboxes, kpts, confs\n",
    "    )\n",
    "    # print(all_features.shape, visible_part.shape)\n",
    "\n",
    "    result.show()\n"
   ]
  },
  {
   "cell_type": "code",
   "execution_count": null,
   "id": "b6804b21",
   "metadata": {},
   "outputs": [],
   "source": [
    "bboxes.shape"
   ]
  }
 ],
 "metadata": {
  "kernelspec": {
   "display_name": "Python 3",
   "language": "python",
   "name": "python3"
  },
  "language_info": {
   "codemirror_mode": {
    "name": "ipython",
    "version": 3
   },
   "file_extension": ".py",
   "mimetype": "text/x-python",
   "name": "python",
   "nbconvert_exporter": "python",
   "pygments_lexer": "ipython3",
   "version": "3.10.12"
  }
 },
 "nbformat": 4,
 "nbformat_minor": 5
}
