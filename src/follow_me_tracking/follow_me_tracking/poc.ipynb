{
 "cells": [
  {
   "cell_type": "code",
   "execution_count": 1,
   "metadata": {},
   "outputs": [
    {
     "name": "stdout",
     "output_type": "stream",
     "text": [
      "Jupyter environment detected. Enabling Open3D WebVisualizer.\n",
      "[Open3D INFO] WebRTC GUI backend enabled.\n",
      "[Open3D INFO] WebRTCWindowSystem: HTTP handshake server disabled.\n"
     ]
    }
   ],
   "source": [
    "import numpy as np\n",
    "\n",
    "import struct\n",
    "import laspy\n",
    "\n",
    "from segment_lidar import samlidar, view"
   ]
  },
  {
   "cell_type": "code",
   "execution_count": 2,
   "metadata": {},
   "outputs": [
    {
     "name": "stdout",
     "output_type": "stream",
     "text": [
      "Reading ../../../data/1.las...\n",
      "- Classification value is not provided. Reading all points...\n",
      "- Reading RGB values...\n",
      "File reading is completed in 0.00 seconds. The point cloud contains 31933 points.\n",
      "\n"
     ]
    }
   ],
   "source": [
    "model = samlidar.SamLidar(\n",
    "    ckpt_path=\"/home/leonard/Downloads/sam_vit_b_01ec64.pth\",\n",
    "    algorithm=\"segment-anything\",\n",
    "    model_type=\"vit_b\",\n",
    "    # interactive=True\n",
    ")\n",
    "points = model.read(\"../../../data/1.las\")\n",
    "# points = model.read(\"/home/leonard/Downloads/pointcloud.las\")"
   ]
  },
  {
   "cell_type": "code",
   "execution_count": 3,
   "metadata": {},
   "outputs": [],
   "source": [
    "# viewpoint = view.PinholeView(\n",
    "#     intrinsic=K,\n",
    "#     rotation=np.eye(3),\n",
    "#     translation=np.zeros((3,))\n",
    "# )"
   ]
  },
  {
   "cell_type": "code",
   "execution_count": 6,
   "metadata": {},
   "outputs": [
    {
     "name": "stdout",
     "output_type": "stream",
     "text": [
      "Applying CSF algorithm...\n",
      "[0] Configuring terrain...\n",
      "[0] Configuring cloth...\n",
      "[0]  - width: 43 height: 49\n",
      "[0] Rasterizing...\n",
      "[0] Simulating...\n",
      "CSF algorithm is completed in 0.08 seconds. The filtered non-ground cloud contains 31933 points.\n",
      "\n",
      "- Generating raster image...\n",
      "- Saving raster image...\n",
      "- Applying segment-anything to raster image...\n",
      "- Saving segmented image...\n",
      "- Saving segmented image...\n",
      "- Generating segment IDs...\n",
      "Segmentation is completed in 1.69 seconds. Number of instances: 4\n",
      "\n",
      "Writing the segmented point cloud to ./segmented_3.las...\n",
      "Writing is completed in 0.01 seconds.\n",
      "\n"
     ]
    }
   ],
   "source": [
    "viewpoint = view.TopView()\n",
    "\n",
    "# labels, *_ = model.segment(points=points, view=viewpoint, image_path=\"./raster.tif\", labels_path=\"./labeled.tif\")\n",
    "# model.write(points=points, segment_ids=labels, save_path=\"./segmented_2.las\")\n",
    "\n",
    "cloud, non_ground, ground = model.csf(points)\n",
    "labels, *_ = model.segment(points=cloud, view=viewpoint, image_path=\"./raster.tif\", labels_path=\"./labeled.tif\")\n",
    "model.write(points=points, non_ground=non_ground, ground=ground, segment_ids=labels, save_path=\"./segmented_3.las\")"
   ]
  },
  {
   "cell_type": "code",
   "execution_count": 10,
   "metadata": {},
   "outputs": [
    {
     "data": {
      "text/plain": [
       "30.952306391507218"
      ]
     },
     "execution_count": 10,
     "metadata": {},
     "output_type": "execute_result"
    }
   ],
   "source": [
    "cloud.shape[0] / points.shape[0] * 100"
   ]
  },
  {
   "cell_type": "code",
   "execution_count": 11,
   "metadata": {},
   "outputs": [
    {
     "data": {
      "text/plain": [
       "{0, 1, 2}"
      ]
     },
     "execution_count": 11,
     "metadata": {},
     "output_type": "execute_result"
    }
   ],
   "source": [
    "set(labels)"
   ]
  },
  {
   "cell_type": "code",
   "execution_count": null,
   "metadata": {},
   "outputs": [],
   "source": []
  }
 ],
 "metadata": {
  "kernelspec": {
   "display_name": "usr",
   "language": "python",
   "name": "python3"
  },
  "language_info": {
   "codemirror_mode": {
    "name": "ipython",
    "version": 3
   },
   "file_extension": ".py",
   "mimetype": "text/x-python",
   "name": "python",
   "nbconvert_exporter": "python",
   "pygments_lexer": "ipython3",
   "version": "3.10.12"
  }
 },
 "nbformat": 4,
 "nbformat_minor": 2
}
